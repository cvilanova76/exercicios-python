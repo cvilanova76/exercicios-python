{
  "nbformat": 4,
  "nbformat_minor": 0,
  "metadata": {
    "colab": {
      "provenance": [],
      "include_colab_link": true
    },
    "kernelspec": {
      "name": "python3",
      "display_name": "Python 3"
    },
    "language_info": {
      "name": "python"
    }
  },
  "cells": [
    {
      "cell_type": "markdown",
      "metadata": {
        "id": "view-in-github",
        "colab_type": "text"
      },
      "source": [
        "<a href=\"https://colab.research.google.com/github/cvilanova76/exercicios-python/blob/main/Desafio_Python_WoMakersCode.ipynb\" target=\"_parent\"><img src=\"https://colab.research.google.com/assets/colab-badge.svg\" alt=\"Open In Colab\"/></a>"
      ]
    },
    {
      "cell_type": "markdown",
      "source": [
        "### Bem vindas ao desafio de Python do Bootcamp Data Analytics da WoMakersCode!\n",
        "Neste notebook, voce deve escrever o codigo python em resposta à cada uma das perguntas. Esteja atenta ao enunciado do problema!\n"
      ],
      "metadata": {
        "id": "Z55f1u4p4oHu"
      }
    },
    {
      "cell_type": "markdown",
      "source": [
        "# **Exercício da Carolina Carvalho Vila Nova**"
      ],
      "metadata": {
        "id": "Kia3I_kirBd3"
      }
    },
    {
      "cell_type": "markdown",
      "source": [
        "### Desafio 1\n",
        "Escreva uma função em python que lê dois números inteiros (a,b) e gere como resultado as seguintes operações:adição, subtração, multiplicação e divisão. Execute a funçao na celula abaixo, deixando visivel exemplos de resultados.\n"
      ],
      "metadata": {
        "id": "oFGdIzuu5W7b"
      }
    },
    {
      "cell_type": "code",
      "source": [
        "##### ESCREVER A FUNÇAO ABAIXO\n",
        "## declarei as variáveis a serem consideradas e usei o if/if else para direcionar \n",
        "## as ações a serem executadas conforme a operação selecionada (+, -, *  e /). \n",
        "## em caso de operações válidas o sistema retorna ao usuário o resultado da operação \n",
        "## e em caso de operação inválida, retorna essa informação\n",
        "def operations(a,b, operação):\n",
        "\n",
        "    if operação == \"+\":\n",
        "      resultado = str(a+b)\n",
        "    elif operação == \"-\":\n",
        "      resultado = str(a-b)\n",
        "    elif operação == \"*\":\n",
        "      resultado = str(a*b)\n",
        "    elif operação == \"/\":\n",
        "      if b == 0:\n",
        "        return(\"Operação inválida\")\n",
        "      else:\n",
        "        resultado = str(a/b)\n",
        "    else:\n",
        "      return(\"Operação inválida\")\n",
        "    return(resultado) \n",
        "   \n",
        "  #### Escrever abaixo\n",
        "  "
      ],
      "metadata": {
        "id": "LzCl-VH14t4a"
      },
      "execution_count": null,
      "outputs": []
    },
    {
      "cell_type": "code",
      "execution_count": null,
      "metadata": {
        "id": "kMNcvrYZ4krA",
        "colab": {
          "base_uri": "https://localhost:8080/"
        },
        "outputId": "e5b184b9-ddd6-4655-c78b-e59f80d10a14"
      },
      "outputs": [
        {
          "output_type": "stream",
          "name": "stdout",
          "text": [
            "Digite um número: 3\n",
            "Digite outro número: 0\n",
            "Digite a operação a realizar (+, -, *, /):/\n",
            "Resultado:  Operação inválida\n"
          ]
        }
      ],
      "source": [
        "\n",
        "#### RODAR A FUNÇAO\n",
        "## o prompt pede ao usuário que entre o primeiro número, depois o segundo e selecione a \n",
        "## operação que deseja realizar, e retorna o resultado da operação.\n",
        "## no caso, dou o exemplo de uma operação inválida (divisão por zero)\n",
        "a = float(input(\"Digite um número: \"))\n",
        "b = float(input(\"Digite outro número: \"))\n",
        "operação = input(\"Digite a operação a realizar (+, -, *, /):\")\n",
        "resultado = operations(a, b, operação)\n",
        "print(\"Resultado: \" , resultado) "
      ]
    },
    {
      "cell_type": "code",
      "source": [
        "a = 1+ 2"
      ],
      "metadata": {
        "id": "0_GDIGYY_fyf"
      },
      "execution_count": null,
      "outputs": []
    },
    {
      "cell_type": "code",
      "source": [],
      "metadata": {
        "id": "k1dHRihCVlJF"
      },
      "execution_count": null,
      "outputs": []
    },
    {
      "cell_type": "markdown",
      "source": [
        "### Desafio 2\n",
        "Escreva uma função em python que leia como input uma idade e retorne a classificaçao da ideade do individuo da seguinte forma em:\n",
        "\n",
        "*  Criança – 0 a 12 anos\n",
        "*  Adolescente – 13 a 17 anos\n",
        "*  Adulto – acima de 18 anos\n",
        "\n",
        "\n",
        "Se a idade for um número negativo, mostrar a mensagem que a \"idade inválida\"\n",
        "\n"
      ],
      "metadata": {
        "id": "m_tFtRo5581u"
      }
    },
    {
      "cell_type": "code",
      "source": [
        "##### ESCREVER A FUNCAO ABAIXO\n",
        "## a variável idade é definida e são informados os parâmetros de classificação usando uma fórmula if/ if else\n",
        "## a cada etapa é retornada a classificação\n",
        "def classifica_idade(idade):\n",
        "  if idade >= 0 and idade  <= 12:\n",
        "    return(\"Criança\")\n",
        "  elif idade >= 13 and idade <= 17:\n",
        "    return(\"Adolescente\")\n",
        "  elif idade >= 18:\n",
        "    return(\"Adulto\")\n",
        "  elif idade <=0:\n",
        "    return(\"Idade inválida\")\n",
        "  \n",
        "  #### escrever abaixo\n",
        "  \n"
      ],
      "metadata": {
        "id": "cL-OpHGv6hyc"
      },
      "execution_count": null,
      "outputs": []
    },
    {
      "cell_type": "code",
      "source": [
        "#### RODAR A FUNCAO\n",
        "## o sistema pede que o usuário insira sua idade, realiza sua classificação conforme\n",
        "## os parâmetros definidos e retorna o resultado.\n",
        "idade = int(input(\"Digite sua idade: \"))\n",
        "resultado = classifica_idade(idade)\n",
        "print(resultado)"
      ],
      "metadata": {
        "id": "49IE2lI66zNO",
        "colab": {
          "base_uri": "https://localhost:8080/"
        },
        "outputId": "564b0a6c-0608-4230-aca0-185ac421a239"
      },
      "execution_count": null,
      "outputs": [
        {
          "output_type": "stream",
          "name": "stdout",
          "text": [
            "Digite sua idade: 47\n",
            "Adulto\n"
          ]
        }
      ]
    },
    {
      "cell_type": "markdown",
      "source": [
        "### Desafio 3\n",
        "Crie uma função em python que receba como input um determinado horário em horas e retorne a conversao deste horário para segundos\n"
      ],
      "metadata": {
        "id": "wIGGNN_v60s4"
      }
    },
    {
      "cell_type": "code",
      "source": [
        "##### ESCREVER A FUNCAO ABAIXO\n",
        "## é definida a função de conversão de tempo com as variáveis e a fórmula que fará a conversão. ao final, o resultado é retornado ao usuário\n",
        "def time_converter(horas, minutos, segundos):\n",
        "  t = horas * 3600 + minutos * 60 + segundos\n",
        "  return(t)\n",
        "  ##### escrever abaixo"
      ],
      "metadata": {
        "id": "JOF_tcax7ABd"
      },
      "execution_count": null,
      "outputs": []
    },
    {
      "cell_type": "code",
      "source": [
        "from IPython.utils import tempdir\n",
        "##### RODAR A FUNCAO\n",
        "## o usuário informa o tempo em horas, minutos e segundos e a fórmula calcula a conversão desse valor para segundos \n",
        "horas = int(input(\"Horas: \"))\n",
        "minutos = int(input(\"Minutos: \"))\n",
        "segundos = int(input(\"Segundos: \"))\n",
        "t = time_converter(horas, minutos, segundos)\n",
        "print(\"Tempo convertido: \", t)"
      ],
      "metadata": {
        "id": "AJf1IqiC7Mq_",
        "colab": {
          "base_uri": "https://localhost:8080/"
        },
        "outputId": "d90714aa-f4c0-4ccc-b4d7-b6cdb1a4759c"
      },
      "execution_count": null,
      "outputs": [
        {
          "output_type": "stream",
          "name": "stdout",
          "text": [
            "Horas: 2\n",
            "Minutos: 30\n",
            "Segundos: 0\n",
            "Tempo convertido:  9000\n"
          ]
        }
      ]
    },
    {
      "cell_type": "markdown",
      "source": [
        "### Desafio 4\n",
        "Crie uma função em python que calcule a média artimética de uma aluna que cursou a disciplina de Programação I. A funcao deve receber como input as notas M1, M2 e M3 e calcular a média. Após a média calculada, a funcao deve anunciar se a aluna foi aprovado, reprovado ou pegou exame de acordo conm a seguinte classificacao:\n",
        "\n",
        "* Se a média estiver entre 0.0 e 4.0, o aluno está reprovado\n",
        "* Se a média estiver entre 4.1 e 6.0, o aluno pegou exame\n",
        "* Se a média for maior do que 6.0, o aluno está aprovado\n",
        "* Se o aluno pegou exame, deve ser lida a nota do exame. Se a nota do exame for maior do que 6.0, está aprovado, senão; está reprovado\n"
      ],
      "metadata": {
        "id": "RCrTUh1E7OWn"
      }
    },
    {
      "cell_type": "code",
      "source": [
        "##### ESCREVER A FUNCAO ABAIXO\n",
        "## defino a função de calcular média, informando as variáveis e o cálculo a ser feito. \n",
        "## em seguida, chamo o if/ if else para classificar a média, retornando ao fim de cada cálculo a classificação correspondente.\n",
        "def calcula_media(M1,M2,M3):\n",
        "  media = ( M1 + M2 + M3) / 3\n",
        "\n",
        "  if media >= 0.0 and media <= 4.0:\n",
        "    return(\"Reprovada\")\n",
        "  elif media >= 4.1 and media <= 6.0:\n",
        "    return(\"Recuperação\")\n",
        "  elif media >= 6:\n",
        "    return(\"Aprovada\")\n",
        "  ###### escrever abaixo"
      ],
      "metadata": {
        "id": "VzNdyWZE70oc"
      },
      "execution_count": null,
      "outputs": []
    },
    {
      "cell_type": "code",
      "source": [
        "##### RODAR A FUNCAO\n",
        "## o usuário entra com cada nota individualmente e é chamada a função de calcular média, dando o resultado. \n",
        "## Usei o caso de classificação \"em recuperação\" para então chamar a função seguinte, que \n",
        "## pede a nota da recuperação e reclassifica o usuário\n",
        "M1 = float(input(\"Digite a primeira nota: \"))\n",
        "M2 = float(input(\"Digite a segunda nota: \"))\n",
        "M3 = float(input(\"Digite a terceira nota: \"))\n",
        "\n",
        "resultado=calcula_media(M1,M2,M3)\n",
        "print(resultado)\n",
        "\n",
        "if resultado==\"Recuperação\":\n",
        "  R = float(input(\"Digite a nota da prova de recuperação: \"))\n",
        "  if R <= 5.9:\n",
        "    print(\"Reprovada\")\n",
        "  elif R > 6:\n",
        "    print(\"Aprovada\")\n"
      ],
      "metadata": {
        "id": "cY7vMECS77QY",
        "colab": {
          "base_uri": "https://localhost:8080/"
        },
        "outputId": "5697bbc1-0606-4d5f-b184-2902d588b5c7"
      },
      "execution_count": null,
      "outputs": [
        {
          "output_type": "stream",
          "name": "stdout",
          "text": [
            "Digite a primeira nota: 3\n",
            "Digite a segunda nota: 4\n",
            "Digite a terceira nota: 5\n",
            "Reprovada\n",
            "Digite a nota da prova de recuperação: 8\n",
            "Aprovada\n"
          ]
        }
      ]
    },
    {
      "cell_type": "markdown",
      "source": [
        "### Desafio 5\n",
        "Dado a seguinte lista: \n",
        "* equipes_bootcamp_dados = [BerthaLutz, GraceHopper, JaquelineGoes, SarahGilbert]\n",
        "\n",
        "1. Crie uma função em python que conte quantas vezes aparece a letra a em cada elemento da lista. Seu resultado deve ser uma lista . exemplo: [4,0,1,2]\n",
        "\n",
        "2. Leia a lista de alunas: ['Maria', 'Ana','Camila','Mariana','Elaine','Patricia','Marina','Erica','Larissa','Luiza', 'Nicole','Bruna']\n",
        "\n",
        "3. Crie uma função que atribua cada uma das alunas em uma das equipes da lista equipes_bootcamp_dados, de modo que cada equipe pode ter 3 alunas no máximo.\n",
        "\n",
        " Para isso ordene em alfabética. O seu resultado deve ser um dicionário python. exemplo {'BerthaLutz': ['Ana', 'Bruna', 'Camila'], 'GraceHopper': ['Elaine','Erika','Luiza'],... }\n"
      ],
      "metadata": {
        "id": "eI9AkpYT788b"
      }
    },
    {
      "cell_type": "code",
      "source": [
        "##### ESCREVER A FUNCAO DA ETAPA 1\n",
        "## crei um contado para iterar cada elemento da lista (e não a lista) \n",
        "## para contar determinada a ocorrência, para isso usando o element.count (em vez de count). no fim, retorna o resultado da contagem\n",
        "def contador(equipes_bootcamp_dados):\n",
        "  contador_a=[]\n",
        "  for elemento in equipes_bootcamp_dados:\n",
        "    contador = elemento.count('a')\n",
        "    contador_a.append(contador)\n",
        "  return contador_a\n",
        "  #### escrever abaixo"
      ],
      "metadata": {
        "id": "Zk6U7KnL8WBd"
      },
      "execution_count": null,
      "outputs": []
    },
    {
      "cell_type": "code",
      "source": [
        "###### RODAR A ETAPA 1\n",
        "## aqui listei os elementos da lista e chamei o \"for\" para fazer a iteração da letra \"a\" em cada elemento.\n",
        "## o resultado final repete os elementos e o resultado da contagem\n",
        "equipes_bootcamp_dados = [\"BerthaLutz\", \"GraceHopper\", \"JaquelineGoes\", \"SarahGilbert\"]\n",
        "contador_a = contador(equipes_bootcamp_dados)\n",
        "print(equipes_bootcamp_dados, contador_a)"
      ],
      "metadata": {
        "id": "snTgwxt_8hcj",
        "colab": {
          "base_uri": "https://localhost:8080/"
        },
        "outputId": "f1bbc525-7c12-4e15-ea11-71a1323a95b1"
      },
      "execution_count": null,
      "outputs": [
        {
          "output_type": "stream",
          "name": "stdout",
          "text": [
            "['BerthaLutz', 'GraceHopper', 'JaquelineGoes', 'SarahGilbert'] [1, 1, 1, 2]\n"
          ]
        }
      ]
    },
    {
      "cell_type": "code",
      "source": [
        "##### LER A ETAPA 2\n",
        "def ler_lista_alunas(lista_alunas):\n",
        "  for aluna in lista_alunas:\n",
        "    print(alunas)"
      ],
      "metadata": {
        "id": "xgkMVykO8jB-"
      },
      "execution_count": null,
      "outputs": []
    },
    {
      "cell_type": "code",
      "source": [
        "lista_alunas = ['Maria', 'Ana','Camila','Mariana','Elaine','Patricia','Marina','Erica','Larissa','Luiza', 'Nicole','Bruna']\n",
        "ler_lista_alunas(lista_alunas)"
      ],
      "metadata": {
        "id": "NpO_TzeUbLuQ"
      },
      "execution_count": null,
      "outputs": []
    },
    {
      "cell_type": "code",
      "source": [
        "##### ESCREVER A FUNCAO DA ETAPA 3\n",
        "## defini a função de ordenação da lista de alunas com a lista de equipes \n",
        "def ordenacao(lista_alunas, equipes_bootcamp_dados):\n",
        "  ### escrever abaixo"
      ],
      "metadata": {
        "id": "_ySYFooB8jFF"
      },
      "execution_count": null,
      "outputs": []
    },
    {
      "cell_type": "code",
      "source": [
        "##### RODAR A FUNCAO DA ETAPA 3\n",
        "## o \"sort\" é chamado para classificar a lista de equipes e a lista de alunas;\n",
        "## para cada aluna em lista de alunas é atribuída uma equipe e a aluna é incluída naquela equipe com o \"append\", tendo como critério o máximo de 3.\n",
        "## o resultado é um dicionário python que informa primeiro a equipe e em seguida suas componentes\n",
        "alunas = ['Maria', 'Ana','Camila','Mariana','Elaine','Patricia','Marina','Erica','Larissa','Luiza', 'Nicole','Bruna']\n",
        "equipes_bootcamp_dados = [\"BerthaLutz\", \"GraceHopper\", \"JaquelineGoes\", \"SarahGilbert\"]\n",
        "equipes_bootcamp_dados.sort()\n",
        "alunas.sort()\n",
        "\n",
        "num_equipes = len(equipes_bootcamp_dados)\n",
        "equipe_index = 0\n",
        "equipe_alunas = {}\n",
        "\n",
        "for aluna in alunas:\n",
        "  equipe = equipes_bootcamp_dados[equipe_index]\n",
        "  if equipe not in equipe_alunas:\n",
        "    equipe_alunas[equipe] = []\n",
        "  equipe_alunas[equipe].append(aluna)\n",
        "  if len(equipe_alunas[equipe]) >= 3:\n",
        "    equipe_index = (equipe_index + 1) % num_equipes\n",
        "print(\"As equipes são: \", equipe_alunas)"
      ],
      "metadata": {
        "id": "8qZnUInj9Uvr",
        "colab": {
          "base_uri": "https://localhost:8080/"
        },
        "outputId": "50cb76dc-70d9-429b-ecf4-f62e72d21ffc"
      },
      "execution_count": null,
      "outputs": [
        {
          "output_type": "stream",
          "name": "stdout",
          "text": [
            "As equipes são:  {'BerthaLutz': ['Ana', 'Bruna', 'Camila'], 'GraceHopper': ['Elaine', 'Erica', 'Larissa'], 'JaquelineGoes': ['Luiza', 'Maria', 'Mariana'], 'SarahGilbert': ['Marina', 'Nicole', 'Patricia']}\n"
          ]
        }
      ]
    },
    {
      "cell_type": "markdown",
      "source": [
        "### Desafio 6\n",
        "Escreva uma função em python que leia uma temperatura em graus Celsius e retorne a conversao dela em graus Fahrenheit. \n",
        "\n",
        "A fórmula de conversão é F = (9 * C + 160) / 5, na qual F é a temperatura em Fahrenheit e C é a temperatura em graus Celsius\n",
        "\n",
        "\n"
      ],
      "metadata": {
        "id": "AXoFPjyx82gG"
      }
    },
    {
      "cell_type": "code",
      "source": [
        "##### ESCREVER A FUNCAO\n",
        "# define a função de conversão de temperatura, definindo a variável temperatura\n",
        "## e o cálculo a ser feito para a conversão, printando o resultado\n",
        "def conversor_temperatura(temperatura):\n",
        "  temperatura = ((9 * C + 160)/ 5)\n",
        "  return(temperatura)\n",
        "  ### escrever abaixo"
      ],
      "metadata": {
        "id": "OsCU2Msu9D9o"
      },
      "execution_count": null,
      "outputs": []
    },
    {
      "cell_type": "code",
      "source": [
        "##### RODAR A FUNCAO\n",
        "# o input recebe do usuário a temperatura em celsius, que é convertida conforme a fórmula descrita acima\n",
        "## o resultado final é printado acrescentando o formato de graus fahrenheit\n",
        "C = float(input(\"Digite a temperatura em Celsius: \"))\n",
        "temperatura = conversor_temperatura(C)\n",
        "print(\"A temperatura é: {0}°F\".format(temperatura))"
      ],
      "metadata": {
        "id": "UBCdsBgi9Xa2",
        "colab": {
          "base_uri": "https://localhost:8080/"
        },
        "outputId": "6b00d6f9-25aa-47a5-9851-af96b5640c44"
      },
      "execution_count": null,
      "outputs": [
        {
          "output_type": "stream",
          "name": "stdout",
          "text": [
            "Digite a temperatura em Celsius: 40\n",
            "A temperatura é: 104.0°F\n"
          ]
        }
      ]
    }
  ]
}